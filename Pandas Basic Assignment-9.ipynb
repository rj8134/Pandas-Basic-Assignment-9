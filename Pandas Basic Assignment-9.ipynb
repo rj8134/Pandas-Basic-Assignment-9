{
 "cells": [
  {
   "cell_type": "markdown",
   "id": "e3071f45-2390-4e62-aea7-69b539a699bf",
   "metadata": {},
   "source": [
    "# Q1. Create a Pandas Series that contains the following data: 4, 8, 15, 16, 23, and 42. Then, print the series."
   ]
  },
  {
   "cell_type": "code",
   "execution_count": 1,
   "id": "0c9ae6c8-0feb-4057-8abc-7924ae0264d7",
   "metadata": {},
   "outputs": [],
   "source": [
    "import pandas as pd"
   ]
  },
  {
   "cell_type": "code",
   "execution_count": 2,
   "id": "7c2b54ca-3a9a-4b02-9ab4-2c24f655e8b8",
   "metadata": {},
   "outputs": [],
   "source": [
    "list1=[4,8,15,16,23,42]"
   ]
  },
  {
   "cell_type": "code",
   "execution_count": 3,
   "id": "b9df9400-6500-42e6-87e8-f0bb8d0266b9",
   "metadata": {},
   "outputs": [],
   "source": [
    "df=pd.Series(list1)"
   ]
  },
  {
   "cell_type": "code",
   "execution_count": 4,
   "id": "07a33933-879e-4b35-865b-f65908641e84",
   "metadata": {},
   "outputs": [
    {
     "data": {
      "text/plain": [
       "0     4\n",
       "1     8\n",
       "2    15\n",
       "3    16\n",
       "4    23\n",
       "5    42\n",
       "dtype: int64"
      ]
     },
     "execution_count": 4,
     "metadata": {},
     "output_type": "execute_result"
    }
   ],
   "source": [
    "df"
   ]
  },
  {
   "cell_type": "code",
   "execution_count": 5,
   "id": "fb9aa9d9-5158-460a-b9ca-f704b3aed718",
   "metadata": {},
   "outputs": [
    {
     "data": {
      "text/plain": [
       "pandas.core.series.Series"
      ]
     },
     "execution_count": 5,
     "metadata": {},
     "output_type": "execute_result"
    }
   ],
   "source": [
    "type(df)"
   ]
  },
  {
   "cell_type": "code",
   "execution_count": 6,
   "id": "cf5e5812-d1ba-4588-b1c1-f392fe50c0dd",
   "metadata": {},
   "outputs": [],
   "source": [
    "tupl1=(4,8,15,16,23,42)"
   ]
  },
  {
   "cell_type": "code",
   "execution_count": 7,
   "id": "b502d139-9439-48c6-91a2-c46a5f968e74",
   "metadata": {},
   "outputs": [],
   "source": [
    "df2=pd.Series(tupl1)"
   ]
  },
  {
   "cell_type": "code",
   "execution_count": 8,
   "id": "ea58f03e-1bd8-47a4-bb34-911cef23c6ab",
   "metadata": {},
   "outputs": [
    {
     "data": {
      "text/plain": [
       "0     4\n",
       "1     8\n",
       "2    15\n",
       "3    16\n",
       "4    23\n",
       "5    42\n",
       "dtype: int64"
      ]
     },
     "execution_count": 8,
     "metadata": {},
     "output_type": "execute_result"
    }
   ],
   "source": [
    "df2"
   ]
  },
  {
   "cell_type": "code",
   "execution_count": 9,
   "id": "b6b82a40-5e8a-4bbf-972d-9a1d21b9a0f7",
   "metadata": {},
   "outputs": [
    {
     "data": {
      "text/plain": [
       "pandas.core.series.Series"
      ]
     },
     "execution_count": 9,
     "metadata": {},
     "output_type": "execute_result"
    }
   ],
   "source": [
    "type(df2)"
   ]
  },
  {
   "cell_type": "markdown",
   "id": "8e66dcad-540d-4df0-b3fe-17aa8352c9a6",
   "metadata": {},
   "source": [
    "# Q2. Create a variable of list type containing 10 elements in it, and apply pandas.Series function on the variable print it."
   ]
  },
  {
   "cell_type": "code",
   "execution_count": 10,
   "id": "e8316316-0778-4c59-b9e5-e87d1e98d93a",
   "metadata": {},
   "outputs": [
    {
     "name": "stdout",
     "output_type": "stream",
     "text": [
      "[5, 6, 7, 8, 9, 10, 11, 12, 13, 14]\n"
     ]
    }
   ],
   "source": [
    "list2=[]\n",
    "for i in range(5,15):\n",
    "    list2.append(i)\n",
    "print(list2)"
   ]
  },
  {
   "cell_type": "code",
   "execution_count": 11,
   "id": "371e1492-1996-4010-8a30-c8255c968d6b",
   "metadata": {},
   "outputs": [
    {
     "data": {
      "text/plain": [
       "[5, 6, 7, 8, 9, 10, 11, 12, 13, 14]"
      ]
     },
     "execution_count": 11,
     "metadata": {},
     "output_type": "execute_result"
    }
   ],
   "source": [
    "list2"
   ]
  },
  {
   "cell_type": "code",
   "execution_count": 12,
   "id": "9a922f9b-f8a6-4467-bfc4-b9f1d10c74f8",
   "metadata": {},
   "outputs": [
    {
     "data": {
      "text/plain": [
       "0     5\n",
       "1     6\n",
       "2     7\n",
       "3     8\n",
       "4     9\n",
       "5    10\n",
       "6    11\n",
       "7    12\n",
       "8    13\n",
       "9    14\n",
       "dtype: int64"
      ]
     },
     "execution_count": 12,
     "metadata": {},
     "output_type": "execute_result"
    }
   ],
   "source": [
    "pd.Series(list2)"
   ]
  },
  {
   "cell_type": "markdown",
   "id": "a276c5ed-fb56-43ec-9c76-2de5b4113fc9",
   "metadata": {},
   "source": [
    "# Q3. Create a Pandas DataFrame that contains the following data:"
   ]
  },
  {
   "cell_type": "code",
   "execution_count": 13,
   "id": "710ea8e8-7283-453d-bf86-f7b58800561f",
   "metadata": {},
   "outputs": [],
   "source": [
    "dict1={\"NAME\":['Alice','Bob','Claire'],\"AGE\":[25,30,27],\"GENDER\":['Female','Male','Female']}"
   ]
  },
  {
   "cell_type": "code",
   "execution_count": 14,
   "id": "5fbcdc98-d5df-466c-a1b4-a828f8526e10",
   "metadata": {},
   "outputs": [],
   "source": [
    "df3=pd.DataFrame(dict1)"
   ]
  },
  {
   "cell_type": "code",
   "execution_count": 15,
   "id": "70cb37af-66f1-465d-bffd-54dac8855d5a",
   "metadata": {},
   "outputs": [
    {
     "data": {
      "text/html": [
       "<div>\n",
       "<style scoped>\n",
       "    .dataframe tbody tr th:only-of-type {\n",
       "        vertical-align: middle;\n",
       "    }\n",
       "\n",
       "    .dataframe tbody tr th {\n",
       "        vertical-align: top;\n",
       "    }\n",
       "\n",
       "    .dataframe thead th {\n",
       "        text-align: right;\n",
       "    }\n",
       "</style>\n",
       "<table border=\"1\" class=\"dataframe\">\n",
       "  <thead>\n",
       "    <tr style=\"text-align: right;\">\n",
       "      <th></th>\n",
       "      <th>NAME</th>\n",
       "      <th>AGE</th>\n",
       "      <th>GENDER</th>\n",
       "    </tr>\n",
       "  </thead>\n",
       "  <tbody>\n",
       "    <tr>\n",
       "      <th>0</th>\n",
       "      <td>Alice</td>\n",
       "      <td>25</td>\n",
       "      <td>Female</td>\n",
       "    </tr>\n",
       "    <tr>\n",
       "      <th>1</th>\n",
       "      <td>Bob</td>\n",
       "      <td>30</td>\n",
       "      <td>Male</td>\n",
       "    </tr>\n",
       "    <tr>\n",
       "      <th>2</th>\n",
       "      <td>Claire</td>\n",
       "      <td>27</td>\n",
       "      <td>Female</td>\n",
       "    </tr>\n",
       "  </tbody>\n",
       "</table>\n",
       "</div>"
      ],
      "text/plain": [
       "     NAME  AGE  GENDER\n",
       "0   Alice   25  Female\n",
       "1     Bob   30    Male\n",
       "2  Claire   27  Female"
      ]
     },
     "execution_count": 15,
     "metadata": {},
     "output_type": "execute_result"
    }
   ],
   "source": [
    "df3"
   ]
  },
  {
   "cell_type": "code",
   "execution_count": 16,
   "id": "999b8746-68bf-43e4-817f-6d1f528d4031",
   "metadata": {},
   "outputs": [
    {
     "data": {
      "text/plain": [
       "pandas.core.frame.DataFrame"
      ]
     },
     "execution_count": 16,
     "metadata": {},
     "output_type": "execute_result"
    }
   ],
   "source": [
    "type(df3)"
   ]
  },
  {
   "cell_type": "markdown",
   "id": "655d9393-421d-476f-8301-fa306ae2d6ff",
   "metadata": {},
   "source": [
    "# Q4. What is ‘DataFrame’ in pandas and how is it different from pandas.series? Explain with an example."
   ]
  },
  {
   "cell_type": "code",
   "execution_count": null,
   "id": "3b13c99f-ec04-4b39-a2b1-4fb17ff93d75",
   "metadata": {},
   "outputs": [],
   "source": [
    "A Pandas DataFrame is a 2 dimensional data structure, like a 2 dimensional array, or a table with rows and columns.\n",
    "A Pandas Series is like a column in a table. It is a one-dimensional array holding data of any type.\n",
    "A Series is a data structure representing a single row or column of a DataFrame.\n",
    "\n",
    "Pandas DataFrame consists of three principal components, the data, rows, and columns.\n"
   ]
  },
  {
   "cell_type": "code",
   "execution_count": 18,
   "id": "cd27a407-2510-4009-b73d-1c4e9d35de9d",
   "metadata": {},
   "outputs": [
    {
     "data": {
      "text/plain": [
       "[5, 6, 7, 8, 9, 10, 11, 12, 13, 14]"
      ]
     },
     "execution_count": 18,
     "metadata": {},
     "output_type": "execute_result"
    }
   ],
   "source": [
    "list2"
   ]
  },
  {
   "cell_type": "code",
   "execution_count": 19,
   "id": "02f266b8-e58f-4f7b-b58f-20afcde4bd11",
   "metadata": {},
   "outputs": [],
   "source": [
    "df4=pd.DataFrame(list2)"
   ]
  },
  {
   "cell_type": "code",
   "execution_count": 20,
   "id": "90ddfe49-e283-47f2-b854-06f1e4046bf1",
   "metadata": {},
   "outputs": [
    {
     "data": {
      "text/html": [
       "<div>\n",
       "<style scoped>\n",
       "    .dataframe tbody tr th:only-of-type {\n",
       "        vertical-align: middle;\n",
       "    }\n",
       "\n",
       "    .dataframe tbody tr th {\n",
       "        vertical-align: top;\n",
       "    }\n",
       "\n",
       "    .dataframe thead th {\n",
       "        text-align: right;\n",
       "    }\n",
       "</style>\n",
       "<table border=\"1\" class=\"dataframe\">\n",
       "  <thead>\n",
       "    <tr style=\"text-align: right;\">\n",
       "      <th></th>\n",
       "      <th>0</th>\n",
       "    </tr>\n",
       "  </thead>\n",
       "  <tbody>\n",
       "    <tr>\n",
       "      <th>0</th>\n",
       "      <td>5</td>\n",
       "    </tr>\n",
       "    <tr>\n",
       "      <th>1</th>\n",
       "      <td>6</td>\n",
       "    </tr>\n",
       "    <tr>\n",
       "      <th>2</th>\n",
       "      <td>7</td>\n",
       "    </tr>\n",
       "    <tr>\n",
       "      <th>3</th>\n",
       "      <td>8</td>\n",
       "    </tr>\n",
       "    <tr>\n",
       "      <th>4</th>\n",
       "      <td>9</td>\n",
       "    </tr>\n",
       "    <tr>\n",
       "      <th>5</th>\n",
       "      <td>10</td>\n",
       "    </tr>\n",
       "    <tr>\n",
       "      <th>6</th>\n",
       "      <td>11</td>\n",
       "    </tr>\n",
       "    <tr>\n",
       "      <th>7</th>\n",
       "      <td>12</td>\n",
       "    </tr>\n",
       "    <tr>\n",
       "      <th>8</th>\n",
       "      <td>13</td>\n",
       "    </tr>\n",
       "    <tr>\n",
       "      <th>9</th>\n",
       "      <td>14</td>\n",
       "    </tr>\n",
       "  </tbody>\n",
       "</table>\n",
       "</div>"
      ],
      "text/plain": [
       "    0\n",
       "0   5\n",
       "1   6\n",
       "2   7\n",
       "3   8\n",
       "4   9\n",
       "5  10\n",
       "6  11\n",
       "7  12\n",
       "8  13\n",
       "9  14"
      ]
     },
     "execution_count": 20,
     "metadata": {},
     "output_type": "execute_result"
    }
   ],
   "source": [
    "df4"
   ]
  },
  {
   "cell_type": "code",
   "execution_count": 23,
   "id": "3f13b449-7fac-4c44-aab1-3bddbb178d9f",
   "metadata": {},
   "outputs": [
    {
     "data": {
      "text/plain": [
       "pandas.core.frame.DataFrame"
      ]
     },
     "execution_count": 23,
     "metadata": {},
     "output_type": "execute_result"
    }
   ],
   "source": [
    "type(df4)"
   ]
  },
  {
   "cell_type": "code",
   "execution_count": 24,
   "id": "ace6dd83-7b24-4f63-bde0-3f562f35c199",
   "metadata": {},
   "outputs": [],
   "source": [
    "df5=pd.Series(list2)"
   ]
  },
  {
   "cell_type": "code",
   "execution_count": 25,
   "id": "a2f73f26-3892-4f37-b9f4-f665cd8b6b25",
   "metadata": {},
   "outputs": [
    {
     "data": {
      "text/plain": [
       "0     5\n",
       "1     6\n",
       "2     7\n",
       "3     8\n",
       "4     9\n",
       "5    10\n",
       "6    11\n",
       "7    12\n",
       "8    13\n",
       "9    14\n",
       "dtype: int64"
      ]
     },
     "execution_count": 25,
     "metadata": {},
     "output_type": "execute_result"
    }
   ],
   "source": [
    "df5"
   ]
  },
  {
   "cell_type": "code",
   "execution_count": 26,
   "id": "1d695d22-d09d-4a4b-a7c4-e068c1b7025a",
   "metadata": {},
   "outputs": [
    {
     "data": {
      "text/plain": [
       "pandas.core.series.Series"
      ]
     },
     "execution_count": 26,
     "metadata": {},
     "output_type": "execute_result"
    }
   ],
   "source": [
    "type(df5)"
   ]
  },
  {
   "cell_type": "code",
   "execution_count": 21,
   "id": "106cf955-746e-4b1e-8da1-d5faf5cbae43",
   "metadata": {},
   "outputs": [],
   "source": [
    "df6 = pd.Series(list2,index=['A','B','C','D','E','F','G','H','I','J'])"
   ]
  },
  {
   "cell_type": "code",
   "execution_count": 22,
   "id": "9c320c24-7773-45ef-ad6c-f28ee45ec02c",
   "metadata": {},
   "outputs": [
    {
     "data": {
      "text/plain": [
       "A     5\n",
       "B     6\n",
       "C     7\n",
       "D     8\n",
       "E     9\n",
       "F    10\n",
       "G    11\n",
       "H    12\n",
       "I    13\n",
       "J    14\n",
       "dtype: int64"
      ]
     },
     "execution_count": 22,
     "metadata": {},
     "output_type": "execute_result"
    }
   ],
   "source": [
    "df6"
   ]
  },
  {
   "cell_type": "markdown",
   "id": "cf112aa5-4238-4409-92ae-a74b889b9e66",
   "metadata": {},
   "source": [
    "# Q5. What are some common functions you can use to manipulate data in a Pandas DataFrame? Can you give an example of when you might use one of these functions?"
   ]
  },
  {
   "cell_type": "markdown",
   "id": "fc59c26e-740f-4c2d-8d6e-ad0a3b966057",
   "metadata": {},
   "source": [
    "Pandas is a predominantly used python data analysis library. It provides many functions and methods to expedite the data analysis process. What makes pandas so common is its functionality, flexibility, and simple syntax.\n",
    "\n",
    "df.head()  # shows top 5 rows\n",
    "df.tail()  # shows bottom 5 rows\n",
    "df.info()  # Pandas dataframe.info() function is used to get a concise summary of the dataframe.\n",
    "df.dtypes  # shows datatype in each column\n",
    "df.shape   # Since dataframes are two-dimensional, what shape returns is the number of rows and columns. It is a measure of                how much data we have and a key input to the data analysis process.\n",
    "df.size    # Size, as the name suggests, returns the size of a dataframe which is the number of rows multiplied by the number              of columns.\n",
    "df.describe       # The describe() method will do a quick statistical summary for every numerical column.\n",
    "df.sample()       # Sample method allows you to select values randomly from a Series or DataFrame. It is useful when we want                       to select a random sample from a distribution.\n",
    "df.isnull()       # Identifies missing values\n",
    "df.isna().any()   # Isna function returns a dataframe filled with boolean values with true indicating missing values.\n",
    "df.nunique()      # Nunique counts the number of unique entries over columns or rows.\n",
    "df.index          # index() is an inbuilt function in Python, which searches for a given element from the start of the list                       and returns the lowest index where the element appears.\n",
    "df.columns        # Shows all the columns\n",
    "df.loc[]          # Pandas use the loc attribute to return one or more specified row(s)\n"
   ]
  },
  {
   "cell_type": "code",
   "execution_count": 28,
   "id": "803c42de-a3fa-4d8c-9b00-b8893d267ee2",
   "metadata": {},
   "outputs": [],
   "source": [
    "df7=pd.read_csv(\"services.csv\")"
   ]
  },
  {
   "cell_type": "code",
   "execution_count": 45,
   "id": "c8dd4770-03a5-4916-9340-d52503c409ea",
   "metadata": {},
   "outputs": [
    {
     "data": {
      "text/plain": [
       "(23, 22)"
      ]
     },
     "execution_count": 45,
     "metadata": {},
     "output_type": "execute_result"
    }
   ],
   "source": [
    "df7.shape"
   ]
  },
  {
   "cell_type": "code",
   "execution_count": null,
   "id": "2a197261-2266-49f7-8aa4-9b2f22dea538",
   "metadata": {},
   "outputs": [],
   "source": []
  },
  {
   "cell_type": "code",
   "execution_count": 47,
   "id": "0207938c-05db-486f-a2f3-92850fa1a74e",
   "metadata": {},
   "outputs": [
    {
     "data": {
      "text/plain": [
       "506"
      ]
     },
     "execution_count": 47,
     "metadata": {},
     "output_type": "execute_result"
    }
   ],
   "source": [
    "df7.size"
   ]
  },
  {
   "cell_type": "code",
   "execution_count": 53,
   "id": "c830c389-f945-4c8c-b2ac-0cee5ef26c64",
   "metadata": {},
   "outputs": [
    {
     "data": {
      "text/html": [
       "<div>\n",
       "<style scoped>\n",
       "    .dataframe tbody tr th:only-of-type {\n",
       "        vertical-align: middle;\n",
       "    }\n",
       "\n",
       "    .dataframe tbody tr th {\n",
       "        vertical-align: top;\n",
       "    }\n",
       "\n",
       "    .dataframe thead th {\n",
       "        text-align: right;\n",
       "    }\n",
       "</style>\n",
       "<table border=\"1\" class=\"dataframe\">\n",
       "  <thead>\n",
       "    <tr style=\"text-align: right;\">\n",
       "      <th></th>\n",
       "      <th>id</th>\n",
       "      <th>location_id</th>\n",
       "      <th>program_id</th>\n",
       "      <th>accepted_payments</th>\n",
       "      <th>alternate_name</th>\n",
       "      <th>application_process</th>\n",
       "      <th>audience</th>\n",
       "      <th>description</th>\n",
       "      <th>eligibility</th>\n",
       "      <th>email</th>\n",
       "      <th>...</th>\n",
       "      <th>interpretation_services</th>\n",
       "      <th>keywords</th>\n",
       "      <th>languages</th>\n",
       "      <th>name</th>\n",
       "      <th>required_documents</th>\n",
       "      <th>service_areas</th>\n",
       "      <th>status</th>\n",
       "      <th>wait_time</th>\n",
       "      <th>website</th>\n",
       "      <th>taxonomy_ids</th>\n",
       "    </tr>\n",
       "  </thead>\n",
       "  <tbody>\n",
       "    <tr>\n",
       "      <th>13</th>\n",
       "      <td>14</td>\n",
       "      <td>14</td>\n",
       "      <td>NaN</td>\n",
       "      <td>NaN</td>\n",
       "      <td>NaN</td>\n",
       "      <td>Call for appointment. Referral from human serv...</td>\n",
       "      <td>Individuals or families with low or no income ...</td>\n",
       "      <td>Provides food, clothing, bus tokens and shelte...</td>\n",
       "      <td>None for most services. For emergency assistan...</td>\n",
       "      <td>NaN</td>\n",
       "      <td>...</td>\n",
       "      <td>NaN</td>\n",
       "      <td>COMMUNITY SERVICES, Interpretation/Translation...</td>\n",
       "      <td>NaN</td>\n",
       "      <td>Redwood City Corps</td>\n",
       "      <td>NaN</td>\n",
       "      <td>Belmont, Burlingame, East Palo Alto</td>\n",
       "      <td>active</td>\n",
       "      <td>Up to 20 minutes.</td>\n",
       "      <td>NaN</td>\n",
       "      <td>NaN</td>\n",
       "    </tr>\n",
       "  </tbody>\n",
       "</table>\n",
       "<p>1 rows × 22 columns</p>\n",
       "</div>"
      ],
      "text/plain": [
       "    id  location_id  program_id accepted_payments alternate_name  \\\n",
       "13  14           14         NaN               NaN            NaN   \n",
       "\n",
       "                                  application_process  \\\n",
       "13  Call for appointment. Referral from human serv...   \n",
       "\n",
       "                                             audience  \\\n",
       "13  Individuals or families with low or no income ...   \n",
       "\n",
       "                                          description  \\\n",
       "13  Provides food, clothing, bus tokens and shelte...   \n",
       "\n",
       "                                          eligibility email  ...  \\\n",
       "13  None for most services. For emergency assistan...   NaN  ...   \n",
       "\n",
       "   interpretation_services                                           keywords  \\\n",
       "13                     NaN  COMMUNITY SERVICES, Interpretation/Translation...   \n",
       "\n",
       "   languages                name required_documents  \\\n",
       "13       NaN  Redwood City Corps                NaN   \n",
       "\n",
       "                          service_areas  status          wait_time website  \\\n",
       "13  Belmont, Burlingame, East Palo Alto  active  Up to 20 minutes.     NaN   \n",
       "\n",
       "   taxonomy_ids  \n",
       "13          NaN  \n",
       "\n",
       "[1 rows x 22 columns]"
      ]
     },
     "execution_count": 53,
     "metadata": {},
     "output_type": "execute_result"
    }
   ],
   "source": [
    "df7.sample()"
   ]
  },
  {
   "cell_type": "code",
   "execution_count": 52,
   "id": "7ddd58a7-f477-425b-b272-48c227d61e92",
   "metadata": {},
   "outputs": [
    {
     "data": {
      "text/plain": [
       "<bound method NDFrame.describe of     id  location_id  program_id         accepted_payments  \\\n",
       "0    1            1         NaN                       NaN   \n",
       "1    2            2         NaN                       NaN   \n",
       "2    3            3         NaN                       NaN   \n",
       "3    4            4         NaN                       NaN   \n",
       "4    5            5         NaN                       NaN   \n",
       "5    6            6         NaN                       NaN   \n",
       "6    7            7         NaN                       NaN   \n",
       "7    8            8         NaN                       NaN   \n",
       "8    9            9         NaN                       NaN   \n",
       "9   10           10         NaN                       NaN   \n",
       "10  11           11         NaN                       NaN   \n",
       "11  12           12         NaN                       NaN   \n",
       "12  13           13         NaN                       NaN   \n",
       "13  14           14         NaN                       NaN   \n",
       "14  15           15         NaN                       NaN   \n",
       "15  16           16         NaN                       NaN   \n",
       "16  17           17         NaN                       NaN   \n",
       "17  18           18         NaN                       NaN   \n",
       "18  19           19         NaN                       NaN   \n",
       "19  20           20         NaN                       NaN   \n",
       "20  21           21         NaN                       NaN   \n",
       "21  22           22         NaN  Cash, Check, Credit Card   \n",
       "22  23           22         NaN                       NaN   \n",
       "\n",
       "           alternate_name                                application_process  \\\n",
       "0                     NaN                         Walk in or apply by phone.   \n",
       "1                     NaN                 Apply by phone for an appointment.   \n",
       "2                     NaN        Phone for information (403-4300 Ext. 4322).   \n",
       "3                     NaN                                    Apply by phone.   \n",
       "4                     NaN                             Phone for information.   \n",
       "5                     NaN  Walk in or apply by phone for membership appli...   \n",
       "6                     NaN  Apply by phone or be referred by a doctor, soc...   \n",
       "7                     NaN                                    Apply by phone.   \n",
       "8                     NaN  Walk in. Proof of residency in California requ...   \n",
       "9                     NaN  Walk in. Proof of California residency to rece...   \n",
       "10                    NaN  Walk in. Proof of California residency require...   \n",
       "11                    NaN  Walk in or apply by phone, email or webpage re...   \n",
       "12                    NaN  Walk in. Proof of California residency require...   \n",
       "13                    NaN  Call for appointment. Referral from human serv...   \n",
       "14                    NaN          Walk in or through other agency referral.   \n",
       "15                    NaN  Walk in. Written application, identification r...   \n",
       "16                    NaN                              Call for information.   \n",
       "17                    NaN  Call for screening appointment. Medical visits...   \n",
       "18                    NaN     Call for screening appointment (650-347-3648).   \n",
       "19                    NaN                                           Walk in.   \n",
       "20                    NaN                    By phone during business hours.   \n",
       "21  Fotos para pasaportes                  Walk in or apply by phone or mail   \n",
       "22                    NaN                  Walk in or apply by phone or mail   \n",
       "\n",
       "                                             audience  \\\n",
       "0   Older adults age 55 or over, ethnic minorities...   \n",
       "1        Residents of San Mateo County age 55 or over   \n",
       "2   Older adults age 55 or over who can benefit fr...   \n",
       "3   Parents, children, families with problems of c...   \n",
       "4   Low-income working families with children tran...   \n",
       "5                                             Any age   \n",
       "6   Older adults who have memory or sensory loss, ...   \n",
       "7   Senior citizens age 60 or over, disabled indiv...   \n",
       "8      Ethnic minorities, especially Spanish speaking   \n",
       "9                                                 NaN   \n",
       "10                                                NaN   \n",
       "11  Adults, parents, children in 1st-12th grades i...   \n",
       "12                                                NaN   \n",
       "13  Individuals or families with low or no income ...   \n",
       "14  Adult alcoholic/drug addictive men and women w...   \n",
       "15                                                NaN   \n",
       "16                                                NaN   \n",
       "17                                                NaN   \n",
       "18                                                NaN   \n",
       "19                                                NaN   \n",
       "20                                                NaN   \n",
       "21  Profit and nonprofit businesses, the public, m...   \n",
       "22  Second service and nonprofit businesses, the p...   \n",
       "\n",
       "                                          description  \\\n",
       "0   A walk-in center for older adults that provide...   \n",
       "1   Provides training and job placement to eligibl...   \n",
       "2   Offers supportive counseling services to San M...   \n",
       "3   Provides supervised visitation services and a ...   \n",
       "4   Provides fixed 8% short term loans to eligible...   \n",
       "5   A multipurpose center offering a wide variety ...   \n",
       "6   Rosener House is a day center for older adults...   \n",
       "7   Delivers a hot meal to the home of persons age...   \n",
       "8   Provides general reading material, including b...   \n",
       "9   Provides general reading and media materials, ...   \n",
       "10  Provides general reading materials, including ...   \n",
       "11  Offers an intergenerational literacy program f...   \n",
       "12  Provides general reading materials, including ...   \n",
       "13  Provides food, clothing, bus tokens and shelte...   \n",
       "14  Provides a long-term (6-12 month) residential ...   \n",
       "15  Provides emergency assistance including food a...   \n",
       "16  Provides emergency food, clothing and furnitur...   \n",
       "17  By appointment only, Project Smile provides a ...   \n",
       "18  Provides free medical and dental care to those...   \n",
       "19              no unrequired fields for this service   \n",
       "20                                just a test service   \n",
       "21  [NOTE THIS IS NOT A REAL SERVICE--THIS IS FOR ...   \n",
       "22  [NOTE THIS IS NOT A REAL ORGANIZATION--THIS IS...   \n",
       "\n",
       "                                          eligibility                  email  \\\n",
       "0   Age 55 or over for most programs, age 60 or ov...                    NaN   \n",
       "1   Age 55 or over, county resident and willing an...                    NaN   \n",
       "2         Resident of San Mateo County age 55 or over                    NaN   \n",
       "3                                                None                    NaN   \n",
       "4   Eligibility: Low-income family with legal cust...                    NaN   \n",
       "5                                                None                    NaN   \n",
       "6                                      Age 18 or over                    NaN   \n",
       "7             Homebound person unable to cook or shop                    NaN   \n",
       "8     Resident of California to obtain a library card                    NaN   \n",
       "9             Resident of California to obtain a card                    NaN   \n",
       "10  Resident of California to obtain a library car...                    NaN   \n",
       "11  English-speaking adult reading at or below 7th...                    NaN   \n",
       "12    Resident of California to obtain a library card                    NaN   \n",
       "13  None for most services. For emergency assistan...                    NaN   \n",
       "14  Age 21-60, detoxed, physically able and willin...                    NaN   \n",
       "15                      None for emergency assistance                    NaN   \n",
       "16                                Low-income families                    NaN   \n",
       "17    Low-income person without access to health care                    NaN   \n",
       "18    Low-income person without access to health care                    NaN   \n",
       "19                                                NaN                    NaN   \n",
       "20                                                NaN                    NaN   \n",
       "21                                               None  passports@example.org   \n",
       "22                                               None                    NaN   \n",
       "\n",
       "    ...                            interpretation_services  \\\n",
       "0   ...                                                NaN   \n",
       "1   ...                                                NaN   \n",
       "2   ...                                                NaN   \n",
       "3   ...                                                NaN   \n",
       "4   ...                                                NaN   \n",
       "5   ...                                                NaN   \n",
       "6   ...                                                NaN   \n",
       "7   ...                                                NaN   \n",
       "8   ...                                                NaN   \n",
       "9   ...                                                NaN   \n",
       "10  ...                                                NaN   \n",
       "11  ...                                                NaN   \n",
       "12  ...                                                NaN   \n",
       "13  ...                                                NaN   \n",
       "14  ...                                                NaN   \n",
       "15  ...                                                NaN   \n",
       "16  ...                                                NaN   \n",
       "17  ...                                                NaN   \n",
       "18  ...                                                NaN   \n",
       "19  ...                                                NaN   \n",
       "20  ...                                                NaN   \n",
       "21  ...  We offer 3-way interpretation services over th...   \n",
       "22  ...                                                NaN   \n",
       "\n",
       "                                             keywords languages  \\\n",
       "0   ADULT PROTECTION AND CARE SERVICES, Meal Sites...       NaN   \n",
       "1   EMPLOYMENT/TRAINING SERVICES, Job Development,...       NaN   \n",
       "2   Geriatric Counseling, Older Adults, Gay, Lesbi...       NaN   \n",
       "3   INDIVIDUAL AND FAMILY DEVELOPMENT SERVICES, Gr...       NaN   \n",
       "4      COMMUNITY SERVICES, Speakers, Automobile Loans       NaN   \n",
       "5   ADULT PROTECTION AND CARE SERVICES, In-Home Su...       NaN   \n",
       "6   ADULT PROTECTION AND CARE SERVICES, Adult Day ...       NaN   \n",
       "7   ADULT PROTECTION AND CARE SERVICES, Meal Sites...       NaN   \n",
       "8   EDUCATION SERVICES, Library, Libraries, Public...       NaN   \n",
       "9   EDUCATION SERVICES, Library, Libraries, Public...       NaN   \n",
       "10  EDUCATION SERVICES, Library, Libraries, Public...       NaN   \n",
       "11  EDUCATION SERVICES, Adult, Alternative, Litera...       NaN   \n",
       "12  EDUCATION SERVICES, Library, Libraries, Public...       NaN   \n",
       "13  COMMUNITY SERVICES, Interpretation/Translation...       NaN   \n",
       "14  ALCOHOLISM SERVICES, Residential Care, DRUG AB...       NaN   \n",
       "15  COMMODITY SERVICES, Clothing/Personal Items, C...       NaN   \n",
       "16  COMMODITY SERVICES, Clothing/Personal Items, C...       NaN   \n",
       "17  HEALTH SERVICES, Outpatient Care, Community Cl...       NaN   \n",
       "18  HEALTH SERVICES, Outpatient Care, Community Cl...       NaN   \n",
       "19                                                NaN       NaN   \n",
       "20                                                NaN       NaN   \n",
       "21                                    Salud, Medicina   Spanish   \n",
       "22         Ruby on Rails/Postgres/Redis, testing, wic       NaN   \n",
       "\n",
       "                                    name  \\\n",
       "0        Fair Oaks Adult Activity Center   \n",
       "1       Second Career Employment Program   \n",
       "2                 Senior Peer Counseling   \n",
       "3               Family Visitation Center   \n",
       "4      Economic Self-Sufficiency Program   \n",
       "5   Little House Recreational Activities   \n",
       "6       Rosener House Adult Day Services   \n",
       "7         Meals on Wheels - South County   \n",
       "8                       Fair Oaks Branch   \n",
       "9                           Main Library   \n",
       "10                       Schaberg Branch   \n",
       "11                          Project Read   \n",
       "12                 Redwood Shores Branch   \n",
       "13                    Redwood City Corps   \n",
       "14           Adult Rehabilitation Center   \n",
       "15                       Sunnyvale Corps   \n",
       "16     South San Francisco Citadel Corps   \n",
       "17                         Project Smile   \n",
       "18         San Mateo Free Medical Clinic   \n",
       "19             Service with blank fields   \n",
       "20       Service for Admin Test Location   \n",
       "21                       Passport Photos   \n",
       "22                  Example Service Name   \n",
       "\n",
       "                          required_documents  \\\n",
       "0                                        NaN   \n",
       "1                                        NaN   \n",
       "2                                        NaN   \n",
       "3                                        NaN   \n",
       "4                                        NaN   \n",
       "5                                        NaN   \n",
       "6                                        NaN   \n",
       "7                                        NaN   \n",
       "8                                        NaN   \n",
       "9                                        NaN   \n",
       "10                                       NaN   \n",
       "11                                       NaN   \n",
       "12                                       NaN   \n",
       "13                                       NaN   \n",
       "14                                       NaN   \n",
       "15                                       NaN   \n",
       "16                                       NaN   \n",
       "17                                       NaN   \n",
       "18                                       NaN   \n",
       "19                                       NaN   \n",
       "20                                       NaN   \n",
       "21  Government-issued picture identification   \n",
       "22                                       NaN   \n",
       "\n",
       "                            service_areas    status  \\\n",
       "0                                   Colma    active   \n",
       "1                        San Mateo County    active   \n",
       "2                        San Mateo County    active   \n",
       "3                        San Mateo County    active   \n",
       "4                        San Mateo County    active   \n",
       "5                        San Mateo County    active   \n",
       "6     Belmont, Burlingame, East Palo Alto    active   \n",
       "7                 Belmont, East Palo Alto    active   \n",
       "8                        San Mateo County    active   \n",
       "9                        San Mateo County    active   \n",
       "10                       San Mateo County    active   \n",
       "11                              Daly City    active   \n",
       "12                       San Mateo County    active   \n",
       "13    Belmont, Burlingame, East Palo Alto    active   \n",
       "14       Alameda County, San Mateo County    active   \n",
       "15                                    NaN    active   \n",
       "16  Colma, Daly City, South San Francisco    active   \n",
       "17                         East Palo Alto    active   \n",
       "18                    Belmont, Burlingame    active   \n",
       "19                                    NaN   defunct   \n",
       "20                       San Mateo County  inactive   \n",
       "21       Alameda County, San Mateo County    active   \n",
       "22       San Mateo County, Alameda County    active   \n",
       "\n",
       "                                            wait_time                 website  \\\n",
       "0                                            No wait.                     NaN   \n",
       "1                                             Varies.                     NaN   \n",
       "2                                             Varies.                     NaN   \n",
       "3                                            No wait.                     NaN   \n",
       "4                                                 NaN                     NaN   \n",
       "5                                            No wait.                     NaN   \n",
       "6                                            No wait.                     NaN   \n",
       "7                                            No wait.                     NaN   \n",
       "8                                            No wait.                     NaN   \n",
       "9                                            No wait.                     NaN   \n",
       "10                                           No wait.                     NaN   \n",
       "11  Depends on availability of tutors for small gr...                     NaN   \n",
       "12                                           No wait.                     NaN   \n",
       "13                                  Up to 20 minutes.                     NaN   \n",
       "14  Varies according to available beds for men and...                     NaN   \n",
       "15                                           No wait.                     NaN   \n",
       "16                                                NaN                     NaN   \n",
       "17                                            Varies.                     NaN   \n",
       "18                                            Varies.                     NaN   \n",
       "19                                                NaN                     NaN   \n",
       "20                                                NaN                     NaN   \n",
       "21                                No wait to 2 weeks.  http://www.example.com   \n",
       "22                                 No wait to 2 weeks  http://www.example.com   \n",
       "\n",
       "                                taxonomy_ids  \n",
       "0                                        NaN  \n",
       "1                                        NaN  \n",
       "2                                        NaN  \n",
       "3                                        NaN  \n",
       "4                                        NaN  \n",
       "5                                        NaN  \n",
       "6                                        NaN  \n",
       "7                                        NaN  \n",
       "8                                        NaN  \n",
       "9                                        NaN  \n",
       "10                                       NaN  \n",
       "11                                       NaN  \n",
       "12                                       NaN  \n",
       "13                                       NaN  \n",
       "14                                       NaN  \n",
       "15                                       NaN  \n",
       "16                                       NaN  \n",
       "17                                       NaN  \n",
       "18                                       NaN  \n",
       "19                                       NaN  \n",
       "20                                       NaN  \n",
       "21  105, 108, 108-05, 108-05-01, 111, 111-05  \n",
       "22                                       NaN  \n",
       "\n",
       "[23 rows x 22 columns]>"
      ]
     },
     "execution_count": 52,
     "metadata": {},
     "output_type": "execute_result"
    }
   ],
   "source": [
    "df7.describe\n"
   ]
  },
  {
   "cell_type": "code",
   "execution_count": 29,
   "id": "fbe2a3e8-d576-4901-8c8a-7e6ada46b82c",
   "metadata": {},
   "outputs": [
    {
     "data": {
      "text/plain": [
       "pandas.core.frame.DataFrame"
      ]
     },
     "execution_count": 29,
     "metadata": {},
     "output_type": "execute_result"
    }
   ],
   "source": [
    "type(df7)\n"
   ]
  },
  {
   "cell_type": "code",
   "execution_count": 30,
   "id": "6c263141-bd26-4aad-9a55-858304f1ff25",
   "metadata": {},
   "outputs": [
    {
     "data": {
      "text/plain": [
       "Index(['id', 'location_id', 'program_id', 'accepted_payments',\n",
       "       'alternate_name', 'application_process', 'audience', 'description',\n",
       "       'eligibility', 'email', 'fees', 'funding_sources',\n",
       "       'interpretation_services', 'keywords', 'languages', 'name',\n",
       "       'required_documents', 'service_areas', 'status', 'wait_time', 'website',\n",
       "       'taxonomy_ids'],\n",
       "      dtype='object')"
      ]
     },
     "execution_count": 30,
     "metadata": {},
     "output_type": "execute_result"
    }
   ],
   "source": [
    "df7.columns"
   ]
  },
  {
   "cell_type": "code",
   "execution_count": 31,
   "id": "5d7578b8-c4c0-4803-b8ec-9127b1254de2",
   "metadata": {},
   "outputs": [
    {
     "data": {
      "text/plain": [
       "id                           int64\n",
       "location_id                  int64\n",
       "program_id                 float64\n",
       "accepted_payments           object\n",
       "alternate_name              object\n",
       "application_process         object\n",
       "audience                    object\n",
       "description                 object\n",
       "eligibility                 object\n",
       "email                       object\n",
       "fees                        object\n",
       "funding_sources             object\n",
       "interpretation_services     object\n",
       "keywords                    object\n",
       "languages                   object\n",
       "name                        object\n",
       "required_documents          object\n",
       "service_areas               object\n",
       "status                      object\n",
       "wait_time                   object\n",
       "website                     object\n",
       "taxonomy_ids                object\n",
       "dtype: object"
      ]
     },
     "execution_count": 31,
     "metadata": {},
     "output_type": "execute_result"
    }
   ],
   "source": [
    "df7.dtypes"
   ]
  },
  {
   "cell_type": "code",
   "execution_count": 32,
   "id": "c66490ad-137d-40a1-8737-582743853673",
   "metadata": {},
   "outputs": [
    {
     "data": {
      "text/html": [
       "<div>\n",
       "<style scoped>\n",
       "    .dataframe tbody tr th:only-of-type {\n",
       "        vertical-align: middle;\n",
       "    }\n",
       "\n",
       "    .dataframe tbody tr th {\n",
       "        vertical-align: top;\n",
       "    }\n",
       "\n",
       "    .dataframe thead th {\n",
       "        text-align: right;\n",
       "    }\n",
       "</style>\n",
       "<table border=\"1\" class=\"dataframe\">\n",
       "  <thead>\n",
       "    <tr style=\"text-align: right;\">\n",
       "      <th></th>\n",
       "      <th>id</th>\n",
       "      <th>location_id</th>\n",
       "      <th>program_id</th>\n",
       "      <th>accepted_payments</th>\n",
       "      <th>alternate_name</th>\n",
       "      <th>application_process</th>\n",
       "      <th>audience</th>\n",
       "      <th>description</th>\n",
       "      <th>eligibility</th>\n",
       "      <th>email</th>\n",
       "      <th>...</th>\n",
       "      <th>interpretation_services</th>\n",
       "      <th>keywords</th>\n",
       "      <th>languages</th>\n",
       "      <th>name</th>\n",
       "      <th>required_documents</th>\n",
       "      <th>service_areas</th>\n",
       "      <th>status</th>\n",
       "      <th>wait_time</th>\n",
       "      <th>website</th>\n",
       "      <th>taxonomy_ids</th>\n",
       "    </tr>\n",
       "  </thead>\n",
       "  <tbody>\n",
       "    <tr>\n",
       "      <th>0</th>\n",
       "      <td>1</td>\n",
       "      <td>1</td>\n",
       "      <td>NaN</td>\n",
       "      <td>NaN</td>\n",
       "      <td>NaN</td>\n",
       "      <td>Walk in or apply by phone.</td>\n",
       "      <td>Older adults age 55 or over, ethnic minorities...</td>\n",
       "      <td>A walk-in center for older adults that provide...</td>\n",
       "      <td>Age 55 or over for most programs, age 60 or ov...</td>\n",
       "      <td>NaN</td>\n",
       "      <td>...</td>\n",
       "      <td>NaN</td>\n",
       "      <td>ADULT PROTECTION AND CARE SERVICES, Meal Sites...</td>\n",
       "      <td>NaN</td>\n",
       "      <td>Fair Oaks Adult Activity Center</td>\n",
       "      <td>NaN</td>\n",
       "      <td>Colma</td>\n",
       "      <td>active</td>\n",
       "      <td>No wait.</td>\n",
       "      <td>NaN</td>\n",
       "      <td>NaN</td>\n",
       "    </tr>\n",
       "    <tr>\n",
       "      <th>1</th>\n",
       "      <td>2</td>\n",
       "      <td>2</td>\n",
       "      <td>NaN</td>\n",
       "      <td>NaN</td>\n",
       "      <td>NaN</td>\n",
       "      <td>Apply by phone for an appointment.</td>\n",
       "      <td>Residents of San Mateo County age 55 or over</td>\n",
       "      <td>Provides training and job placement to eligibl...</td>\n",
       "      <td>Age 55 or over, county resident and willing an...</td>\n",
       "      <td>NaN</td>\n",
       "      <td>...</td>\n",
       "      <td>NaN</td>\n",
       "      <td>EMPLOYMENT/TRAINING SERVICES, Job Development,...</td>\n",
       "      <td>NaN</td>\n",
       "      <td>Second Career Employment Program</td>\n",
       "      <td>NaN</td>\n",
       "      <td>San Mateo County</td>\n",
       "      <td>active</td>\n",
       "      <td>Varies.</td>\n",
       "      <td>NaN</td>\n",
       "      <td>NaN</td>\n",
       "    </tr>\n",
       "    <tr>\n",
       "      <th>2</th>\n",
       "      <td>3</td>\n",
       "      <td>3</td>\n",
       "      <td>NaN</td>\n",
       "      <td>NaN</td>\n",
       "      <td>NaN</td>\n",
       "      <td>Phone for information (403-4300 Ext. 4322).</td>\n",
       "      <td>Older adults age 55 or over who can benefit fr...</td>\n",
       "      <td>Offers supportive counseling services to San M...</td>\n",
       "      <td>Resident of San Mateo County age 55 or over</td>\n",
       "      <td>NaN</td>\n",
       "      <td>...</td>\n",
       "      <td>NaN</td>\n",
       "      <td>Geriatric Counseling, Older Adults, Gay, Lesbi...</td>\n",
       "      <td>NaN</td>\n",
       "      <td>Senior Peer Counseling</td>\n",
       "      <td>NaN</td>\n",
       "      <td>San Mateo County</td>\n",
       "      <td>active</td>\n",
       "      <td>Varies.</td>\n",
       "      <td>NaN</td>\n",
       "      <td>NaN</td>\n",
       "    </tr>\n",
       "    <tr>\n",
       "      <th>3</th>\n",
       "      <td>4</td>\n",
       "      <td>4</td>\n",
       "      <td>NaN</td>\n",
       "      <td>NaN</td>\n",
       "      <td>NaN</td>\n",
       "      <td>Apply by phone.</td>\n",
       "      <td>Parents, children, families with problems of c...</td>\n",
       "      <td>Provides supervised visitation services and a ...</td>\n",
       "      <td>None</td>\n",
       "      <td>NaN</td>\n",
       "      <td>...</td>\n",
       "      <td>NaN</td>\n",
       "      <td>INDIVIDUAL AND FAMILY DEVELOPMENT SERVICES, Gr...</td>\n",
       "      <td>NaN</td>\n",
       "      <td>Family Visitation Center</td>\n",
       "      <td>NaN</td>\n",
       "      <td>San Mateo County</td>\n",
       "      <td>active</td>\n",
       "      <td>No wait.</td>\n",
       "      <td>NaN</td>\n",
       "      <td>NaN</td>\n",
       "    </tr>\n",
       "    <tr>\n",
       "      <th>4</th>\n",
       "      <td>5</td>\n",
       "      <td>5</td>\n",
       "      <td>NaN</td>\n",
       "      <td>NaN</td>\n",
       "      <td>NaN</td>\n",
       "      <td>Phone for information.</td>\n",
       "      <td>Low-income working families with children tran...</td>\n",
       "      <td>Provides fixed 8% short term loans to eligible...</td>\n",
       "      <td>Eligibility: Low-income family with legal cust...</td>\n",
       "      <td>NaN</td>\n",
       "      <td>...</td>\n",
       "      <td>NaN</td>\n",
       "      <td>COMMUNITY SERVICES, Speakers, Automobile Loans</td>\n",
       "      <td>NaN</td>\n",
       "      <td>Economic Self-Sufficiency Program</td>\n",
       "      <td>NaN</td>\n",
       "      <td>San Mateo County</td>\n",
       "      <td>active</td>\n",
       "      <td>NaN</td>\n",
       "      <td>NaN</td>\n",
       "      <td>NaN</td>\n",
       "    </tr>\n",
       "  </tbody>\n",
       "</table>\n",
       "<p>5 rows × 22 columns</p>\n",
       "</div>"
      ],
      "text/plain": [
       "   id  location_id  program_id accepted_payments alternate_name  \\\n",
       "0   1            1         NaN               NaN            NaN   \n",
       "1   2            2         NaN               NaN            NaN   \n",
       "2   3            3         NaN               NaN            NaN   \n",
       "3   4            4         NaN               NaN            NaN   \n",
       "4   5            5         NaN               NaN            NaN   \n",
       "\n",
       "                           application_process  \\\n",
       "0                   Walk in or apply by phone.   \n",
       "1           Apply by phone for an appointment.   \n",
       "2  Phone for information (403-4300 Ext. 4322).   \n",
       "3                              Apply by phone.   \n",
       "4                       Phone for information.   \n",
       "\n",
       "                                            audience  \\\n",
       "0  Older adults age 55 or over, ethnic minorities...   \n",
       "1       Residents of San Mateo County age 55 or over   \n",
       "2  Older adults age 55 or over who can benefit fr...   \n",
       "3  Parents, children, families with problems of c...   \n",
       "4  Low-income working families with children tran...   \n",
       "\n",
       "                                         description  \\\n",
       "0  A walk-in center for older adults that provide...   \n",
       "1  Provides training and job placement to eligibl...   \n",
       "2  Offers supportive counseling services to San M...   \n",
       "3  Provides supervised visitation services and a ...   \n",
       "4  Provides fixed 8% short term loans to eligible...   \n",
       "\n",
       "                                         eligibility email  ...  \\\n",
       "0  Age 55 or over for most programs, age 60 or ov...   NaN  ...   \n",
       "1  Age 55 or over, county resident and willing an...   NaN  ...   \n",
       "2        Resident of San Mateo County age 55 or over   NaN  ...   \n",
       "3                                               None   NaN  ...   \n",
       "4  Eligibility: Low-income family with legal cust...   NaN  ...   \n",
       "\n",
       "  interpretation_services                                           keywords  \\\n",
       "0                     NaN  ADULT PROTECTION AND CARE SERVICES, Meal Sites...   \n",
       "1                     NaN  EMPLOYMENT/TRAINING SERVICES, Job Development,...   \n",
       "2                     NaN  Geriatric Counseling, Older Adults, Gay, Lesbi...   \n",
       "3                     NaN  INDIVIDUAL AND FAMILY DEVELOPMENT SERVICES, Gr...   \n",
       "4                     NaN     COMMUNITY SERVICES, Speakers, Automobile Loans   \n",
       "\n",
       "  languages                               name required_documents  \\\n",
       "0       NaN    Fair Oaks Adult Activity Center                NaN   \n",
       "1       NaN   Second Career Employment Program                NaN   \n",
       "2       NaN             Senior Peer Counseling                NaN   \n",
       "3       NaN           Family Visitation Center                NaN   \n",
       "4       NaN  Economic Self-Sufficiency Program                NaN   \n",
       "\n",
       "      service_areas  status wait_time website taxonomy_ids  \n",
       "0             Colma  active  No wait.     NaN          NaN  \n",
       "1  San Mateo County  active   Varies.     NaN          NaN  \n",
       "2  San Mateo County  active   Varies.     NaN          NaN  \n",
       "3  San Mateo County  active  No wait.     NaN          NaN  \n",
       "4  San Mateo County  active       NaN     NaN          NaN  \n",
       "\n",
       "[5 rows x 22 columns]"
      ]
     },
     "execution_count": 32,
     "metadata": {},
     "output_type": "execute_result"
    }
   ],
   "source": [
    "df7.head()"
   ]
  },
  {
   "cell_type": "code",
   "execution_count": 33,
   "id": "69f211c9-d625-4988-a15c-6576c02cc585",
   "metadata": {},
   "outputs": [
    {
     "data": {
      "text/html": [
       "<div>\n",
       "<style scoped>\n",
       "    .dataframe tbody tr th:only-of-type {\n",
       "        vertical-align: middle;\n",
       "    }\n",
       "\n",
       "    .dataframe tbody tr th {\n",
       "        vertical-align: top;\n",
       "    }\n",
       "\n",
       "    .dataframe thead th {\n",
       "        text-align: right;\n",
       "    }\n",
       "</style>\n",
       "<table border=\"1\" class=\"dataframe\">\n",
       "  <thead>\n",
       "    <tr style=\"text-align: right;\">\n",
       "      <th></th>\n",
       "      <th>id</th>\n",
       "      <th>location_id</th>\n",
       "      <th>program_id</th>\n",
       "      <th>accepted_payments</th>\n",
       "      <th>alternate_name</th>\n",
       "      <th>application_process</th>\n",
       "      <th>audience</th>\n",
       "      <th>description</th>\n",
       "      <th>eligibility</th>\n",
       "      <th>email</th>\n",
       "      <th>...</th>\n",
       "      <th>interpretation_services</th>\n",
       "      <th>keywords</th>\n",
       "      <th>languages</th>\n",
       "      <th>name</th>\n",
       "      <th>required_documents</th>\n",
       "      <th>service_areas</th>\n",
       "      <th>status</th>\n",
       "      <th>wait_time</th>\n",
       "      <th>website</th>\n",
       "      <th>taxonomy_ids</th>\n",
       "    </tr>\n",
       "  </thead>\n",
       "  <tbody>\n",
       "    <tr>\n",
       "      <th>18</th>\n",
       "      <td>19</td>\n",
       "      <td>19</td>\n",
       "      <td>NaN</td>\n",
       "      <td>NaN</td>\n",
       "      <td>NaN</td>\n",
       "      <td>Call for screening appointment (650-347-3648).</td>\n",
       "      <td>NaN</td>\n",
       "      <td>Provides free medical and dental care to those...</td>\n",
       "      <td>Low-income person without access to health care</td>\n",
       "      <td>NaN</td>\n",
       "      <td>...</td>\n",
       "      <td>NaN</td>\n",
       "      <td>HEALTH SERVICES, Outpatient Care, Community Cl...</td>\n",
       "      <td>NaN</td>\n",
       "      <td>San Mateo Free Medical Clinic</td>\n",
       "      <td>NaN</td>\n",
       "      <td>Belmont, Burlingame</td>\n",
       "      <td>active</td>\n",
       "      <td>Varies.</td>\n",
       "      <td>NaN</td>\n",
       "      <td>NaN</td>\n",
       "    </tr>\n",
       "    <tr>\n",
       "      <th>19</th>\n",
       "      <td>20</td>\n",
       "      <td>20</td>\n",
       "      <td>NaN</td>\n",
       "      <td>NaN</td>\n",
       "      <td>NaN</td>\n",
       "      <td>Walk in.</td>\n",
       "      <td>NaN</td>\n",
       "      <td>no unrequired fields for this service</td>\n",
       "      <td>NaN</td>\n",
       "      <td>NaN</td>\n",
       "      <td>...</td>\n",
       "      <td>NaN</td>\n",
       "      <td>NaN</td>\n",
       "      <td>NaN</td>\n",
       "      <td>Service with blank fields</td>\n",
       "      <td>NaN</td>\n",
       "      <td>NaN</td>\n",
       "      <td>defunct</td>\n",
       "      <td>NaN</td>\n",
       "      <td>NaN</td>\n",
       "      <td>NaN</td>\n",
       "    </tr>\n",
       "    <tr>\n",
       "      <th>20</th>\n",
       "      <td>21</td>\n",
       "      <td>21</td>\n",
       "      <td>NaN</td>\n",
       "      <td>NaN</td>\n",
       "      <td>NaN</td>\n",
       "      <td>By phone during business hours.</td>\n",
       "      <td>NaN</td>\n",
       "      <td>just a test service</td>\n",
       "      <td>NaN</td>\n",
       "      <td>NaN</td>\n",
       "      <td>...</td>\n",
       "      <td>NaN</td>\n",
       "      <td>NaN</td>\n",
       "      <td>NaN</td>\n",
       "      <td>Service for Admin Test Location</td>\n",
       "      <td>NaN</td>\n",
       "      <td>San Mateo County</td>\n",
       "      <td>inactive</td>\n",
       "      <td>NaN</td>\n",
       "      <td>NaN</td>\n",
       "      <td>NaN</td>\n",
       "    </tr>\n",
       "    <tr>\n",
       "      <th>21</th>\n",
       "      <td>22</td>\n",
       "      <td>22</td>\n",
       "      <td>NaN</td>\n",
       "      <td>Cash, Check, Credit Card</td>\n",
       "      <td>Fotos para pasaportes</td>\n",
       "      <td>Walk in or apply by phone or mail</td>\n",
       "      <td>Profit and nonprofit businesses, the public, m...</td>\n",
       "      <td>[NOTE THIS IS NOT A REAL SERVICE--THIS IS FOR ...</td>\n",
       "      <td>None</td>\n",
       "      <td>passports@example.org</td>\n",
       "      <td>...</td>\n",
       "      <td>We offer 3-way interpretation services over th...</td>\n",
       "      <td>Salud, Medicina</td>\n",
       "      <td>Spanish</td>\n",
       "      <td>Passport Photos</td>\n",
       "      <td>Government-issued picture identification</td>\n",
       "      <td>Alameda County, San Mateo County</td>\n",
       "      <td>active</td>\n",
       "      <td>No wait to 2 weeks.</td>\n",
       "      <td>http://www.example.com</td>\n",
       "      <td>105, 108, 108-05, 108-05-01, 111, 111-05</td>\n",
       "    </tr>\n",
       "    <tr>\n",
       "      <th>22</th>\n",
       "      <td>23</td>\n",
       "      <td>22</td>\n",
       "      <td>NaN</td>\n",
       "      <td>NaN</td>\n",
       "      <td>NaN</td>\n",
       "      <td>Walk in or apply by phone or mail</td>\n",
       "      <td>Second service and nonprofit businesses, the p...</td>\n",
       "      <td>[NOTE THIS IS NOT A REAL ORGANIZATION--THIS IS...</td>\n",
       "      <td>None</td>\n",
       "      <td>NaN</td>\n",
       "      <td>...</td>\n",
       "      <td>NaN</td>\n",
       "      <td>Ruby on Rails/Postgres/Redis, testing, wic</td>\n",
       "      <td>NaN</td>\n",
       "      <td>Example Service Name</td>\n",
       "      <td>NaN</td>\n",
       "      <td>San Mateo County, Alameda County</td>\n",
       "      <td>active</td>\n",
       "      <td>No wait to 2 weeks</td>\n",
       "      <td>http://www.example.com</td>\n",
       "      <td>NaN</td>\n",
       "    </tr>\n",
       "  </tbody>\n",
       "</table>\n",
       "<p>5 rows × 22 columns</p>\n",
       "</div>"
      ],
      "text/plain": [
       "    id  location_id  program_id         accepted_payments  \\\n",
       "18  19           19         NaN                       NaN   \n",
       "19  20           20         NaN                       NaN   \n",
       "20  21           21         NaN                       NaN   \n",
       "21  22           22         NaN  Cash, Check, Credit Card   \n",
       "22  23           22         NaN                       NaN   \n",
       "\n",
       "           alternate_name                             application_process  \\\n",
       "18                    NaN  Call for screening appointment (650-347-3648).   \n",
       "19                    NaN                                        Walk in.   \n",
       "20                    NaN                 By phone during business hours.   \n",
       "21  Fotos para pasaportes               Walk in or apply by phone or mail   \n",
       "22                    NaN               Walk in or apply by phone or mail   \n",
       "\n",
       "                                             audience  \\\n",
       "18                                                NaN   \n",
       "19                                                NaN   \n",
       "20                                                NaN   \n",
       "21  Profit and nonprofit businesses, the public, m...   \n",
       "22  Second service and nonprofit businesses, the p...   \n",
       "\n",
       "                                          description  \\\n",
       "18  Provides free medical and dental care to those...   \n",
       "19              no unrequired fields for this service   \n",
       "20                                just a test service   \n",
       "21  [NOTE THIS IS NOT A REAL SERVICE--THIS IS FOR ...   \n",
       "22  [NOTE THIS IS NOT A REAL ORGANIZATION--THIS IS...   \n",
       "\n",
       "                                        eligibility                  email  \\\n",
       "18  Low-income person without access to health care                    NaN   \n",
       "19                                              NaN                    NaN   \n",
       "20                                              NaN                    NaN   \n",
       "21                                             None  passports@example.org   \n",
       "22                                             None                    NaN   \n",
       "\n",
       "    ...                            interpretation_services  \\\n",
       "18  ...                                                NaN   \n",
       "19  ...                                                NaN   \n",
       "20  ...                                                NaN   \n",
       "21  ...  We offer 3-way interpretation services over th...   \n",
       "22  ...                                                NaN   \n",
       "\n",
       "                                             keywords languages  \\\n",
       "18  HEALTH SERVICES, Outpatient Care, Community Cl...       NaN   \n",
       "19                                                NaN       NaN   \n",
       "20                                                NaN       NaN   \n",
       "21                                    Salud, Medicina   Spanish   \n",
       "22         Ruby on Rails/Postgres/Redis, testing, wic       NaN   \n",
       "\n",
       "                               name                        required_documents  \\\n",
       "18    San Mateo Free Medical Clinic                                       NaN   \n",
       "19        Service with blank fields                                       NaN   \n",
       "20  Service for Admin Test Location                                       NaN   \n",
       "21                  Passport Photos  Government-issued picture identification   \n",
       "22             Example Service Name                                       NaN   \n",
       "\n",
       "                       service_areas    status            wait_time  \\\n",
       "18               Belmont, Burlingame    active              Varies.   \n",
       "19                               NaN   defunct                  NaN   \n",
       "20                  San Mateo County  inactive                  NaN   \n",
       "21  Alameda County, San Mateo County    active  No wait to 2 weeks.   \n",
       "22  San Mateo County, Alameda County    active   No wait to 2 weeks   \n",
       "\n",
       "                   website                              taxonomy_ids  \n",
       "18                     NaN                                       NaN  \n",
       "19                     NaN                                       NaN  \n",
       "20                     NaN                                       NaN  \n",
       "21  http://www.example.com  105, 108, 108-05, 108-05-01, 111, 111-05  \n",
       "22  http://www.example.com                                       NaN  \n",
       "\n",
       "[5 rows x 22 columns]"
      ]
     },
     "execution_count": 33,
     "metadata": {},
     "output_type": "execute_result"
    }
   ],
   "source": [
    "df7.tail()"
   ]
  },
  {
   "cell_type": "code",
   "execution_count": 34,
   "id": "5aabb293-186f-4102-9e2d-2bd52228c625",
   "metadata": {},
   "outputs": [
    {
     "data": {
      "text/plain": [
       "['id',\n",
       " 'location_id',\n",
       " 'program_id',\n",
       " 'accepted_payments',\n",
       " 'alternate_name',\n",
       " 'application_process',\n",
       " 'audience',\n",
       " 'description',\n",
       " 'eligibility',\n",
       " 'email',\n",
       " 'fees',\n",
       " 'funding_sources',\n",
       " 'interpretation_services',\n",
       " 'keywords',\n",
       " 'languages',\n",
       " 'name',\n",
       " 'required_documents',\n",
       " 'service_areas',\n",
       " 'status',\n",
       " 'wait_time',\n",
       " 'website',\n",
       " 'taxonomy_ids']"
      ]
     },
     "execution_count": 34,
     "metadata": {},
     "output_type": "execute_result"
    }
   ],
   "source": [
    "list(df7)"
   ]
  },
  {
   "cell_type": "code",
   "execution_count": 35,
   "id": "74d31449-8453-4b96-95f1-034c74e8fe49",
   "metadata": {},
   "outputs": [
    {
     "data": {
      "text/plain": [
       "Index(['id', 'location_id', 'program_id', 'accepted_payments',\n",
       "       'alternate_name', 'application_process', 'audience', 'description',\n",
       "       'eligibility', 'email', 'fees', 'funding_sources',\n",
       "       'interpretation_services', 'keywords', 'languages', 'name',\n",
       "       'required_documents', 'service_areas', 'status', 'wait_time', 'website',\n",
       "       'taxonomy_ids'],\n",
       "      dtype='object')"
      ]
     },
     "execution_count": 35,
     "metadata": {},
     "output_type": "execute_result"
    }
   ],
   "source": [
    "df7.columns"
   ]
  },
  {
   "cell_type": "code",
   "execution_count": 36,
   "id": "2ccc65ce-c78a-46ab-b5e8-276a0f426387",
   "metadata": {},
   "outputs": [
    {
     "data": {
      "text/plain": [
       "0     $2.50 suggested donation for lunch for age 60 ...\n",
       "1     None. Donations requested of clients who can a...\n",
       "2                                                 None.\n",
       "3     Vary according to income ($5-$90). Cash, check...\n",
       "4         $60 application fee. Cash or checks accepted.\n",
       "5     $55 per year membership dues. Classes have fee...\n",
       "6     $85 per day. Vary according to income for thos...\n",
       "7     Suggested donation of $4.25 per meal for senio...\n",
       "8                                                 None.\n",
       "9                                                 None.\n",
       "10                                                None.\n",
       "11                                                None.\n",
       "12                                                None.\n",
       "13                                                None.\n",
       "14                                                None.\n",
       "15    None for emergency services. Vary for after sc...\n",
       "16                                                None.\n",
       "17                                                None.\n",
       "18                                                None.\n",
       "19                                                  NaN\n",
       "20                                                  NaN\n",
       "21    None, except for permits and photocopying. Cas...\n",
       "22    None, except for permits and photocopying. Cas...\n",
       "Name: fees, dtype: object"
      ]
     },
     "execution_count": 36,
     "metadata": {},
     "output_type": "execute_result"
    }
   ],
   "source": [
    "df7['fees']"
   ]
  },
  {
   "cell_type": "code",
   "execution_count": 38,
   "id": "58b424a1-bd66-4910-83af-d211fbfea2ed",
   "metadata": {},
   "outputs": [
    {
     "data": {
      "text/html": [
       "<div>\n",
       "<style scoped>\n",
       "    .dataframe tbody tr th:only-of-type {\n",
       "        vertical-align: middle;\n",
       "    }\n",
       "\n",
       "    .dataframe tbody tr th {\n",
       "        vertical-align: top;\n",
       "    }\n",
       "\n",
       "    .dataframe thead th {\n",
       "        text-align: right;\n",
       "    }\n",
       "</style>\n",
       "<table border=\"1\" class=\"dataframe\">\n",
       "  <thead>\n",
       "    <tr style=\"text-align: right;\">\n",
       "      <th></th>\n",
       "      <th>location_id</th>\n",
       "      <th>program_id</th>\n",
       "      <th>accepted_payments</th>\n",
       "    </tr>\n",
       "  </thead>\n",
       "  <tbody>\n",
       "    <tr>\n",
       "      <th>0</th>\n",
       "      <td>1</td>\n",
       "      <td>NaN</td>\n",
       "      <td>NaN</td>\n",
       "    </tr>\n",
       "    <tr>\n",
       "      <th>1</th>\n",
       "      <td>2</td>\n",
       "      <td>NaN</td>\n",
       "      <td>NaN</td>\n",
       "    </tr>\n",
       "    <tr>\n",
       "      <th>2</th>\n",
       "      <td>3</td>\n",
       "      <td>NaN</td>\n",
       "      <td>NaN</td>\n",
       "    </tr>\n",
       "    <tr>\n",
       "      <th>3</th>\n",
       "      <td>4</td>\n",
       "      <td>NaN</td>\n",
       "      <td>NaN</td>\n",
       "    </tr>\n",
       "    <tr>\n",
       "      <th>4</th>\n",
       "      <td>5</td>\n",
       "      <td>NaN</td>\n",
       "      <td>NaN</td>\n",
       "    </tr>\n",
       "    <tr>\n",
       "      <th>5</th>\n",
       "      <td>6</td>\n",
       "      <td>NaN</td>\n",
       "      <td>NaN</td>\n",
       "    </tr>\n",
       "    <tr>\n",
       "      <th>6</th>\n",
       "      <td>7</td>\n",
       "      <td>NaN</td>\n",
       "      <td>NaN</td>\n",
       "    </tr>\n",
       "    <tr>\n",
       "      <th>7</th>\n",
       "      <td>8</td>\n",
       "      <td>NaN</td>\n",
       "      <td>NaN</td>\n",
       "    </tr>\n",
       "    <tr>\n",
       "      <th>8</th>\n",
       "      <td>9</td>\n",
       "      <td>NaN</td>\n",
       "      <td>NaN</td>\n",
       "    </tr>\n",
       "    <tr>\n",
       "      <th>9</th>\n",
       "      <td>10</td>\n",
       "      <td>NaN</td>\n",
       "      <td>NaN</td>\n",
       "    </tr>\n",
       "    <tr>\n",
       "      <th>10</th>\n",
       "      <td>11</td>\n",
       "      <td>NaN</td>\n",
       "      <td>NaN</td>\n",
       "    </tr>\n",
       "    <tr>\n",
       "      <th>11</th>\n",
       "      <td>12</td>\n",
       "      <td>NaN</td>\n",
       "      <td>NaN</td>\n",
       "    </tr>\n",
       "    <tr>\n",
       "      <th>12</th>\n",
       "      <td>13</td>\n",
       "      <td>NaN</td>\n",
       "      <td>NaN</td>\n",
       "    </tr>\n",
       "    <tr>\n",
       "      <th>13</th>\n",
       "      <td>14</td>\n",
       "      <td>NaN</td>\n",
       "      <td>NaN</td>\n",
       "    </tr>\n",
       "    <tr>\n",
       "      <th>14</th>\n",
       "      <td>15</td>\n",
       "      <td>NaN</td>\n",
       "      <td>NaN</td>\n",
       "    </tr>\n",
       "    <tr>\n",
       "      <th>15</th>\n",
       "      <td>16</td>\n",
       "      <td>NaN</td>\n",
       "      <td>NaN</td>\n",
       "    </tr>\n",
       "    <tr>\n",
       "      <th>16</th>\n",
       "      <td>17</td>\n",
       "      <td>NaN</td>\n",
       "      <td>NaN</td>\n",
       "    </tr>\n",
       "    <tr>\n",
       "      <th>17</th>\n",
       "      <td>18</td>\n",
       "      <td>NaN</td>\n",
       "      <td>NaN</td>\n",
       "    </tr>\n",
       "    <tr>\n",
       "      <th>18</th>\n",
       "      <td>19</td>\n",
       "      <td>NaN</td>\n",
       "      <td>NaN</td>\n",
       "    </tr>\n",
       "    <tr>\n",
       "      <th>19</th>\n",
       "      <td>20</td>\n",
       "      <td>NaN</td>\n",
       "      <td>NaN</td>\n",
       "    </tr>\n",
       "    <tr>\n",
       "      <th>20</th>\n",
       "      <td>21</td>\n",
       "      <td>NaN</td>\n",
       "      <td>NaN</td>\n",
       "    </tr>\n",
       "    <tr>\n",
       "      <th>21</th>\n",
       "      <td>22</td>\n",
       "      <td>NaN</td>\n",
       "      <td>Cash, Check, Credit Card</td>\n",
       "    </tr>\n",
       "    <tr>\n",
       "      <th>22</th>\n",
       "      <td>22</td>\n",
       "      <td>NaN</td>\n",
       "      <td>NaN</td>\n",
       "    </tr>\n",
       "  </tbody>\n",
       "</table>\n",
       "</div>"
      ],
      "text/plain": [
       "    location_id  program_id         accepted_payments\n",
       "0             1         NaN                       NaN\n",
       "1             2         NaN                       NaN\n",
       "2             3         NaN                       NaN\n",
       "3             4         NaN                       NaN\n",
       "4             5         NaN                       NaN\n",
       "5             6         NaN                       NaN\n",
       "6             7         NaN                       NaN\n",
       "7             8         NaN                       NaN\n",
       "8             9         NaN                       NaN\n",
       "9            10         NaN                       NaN\n",
       "10           11         NaN                       NaN\n",
       "11           12         NaN                       NaN\n",
       "12           13         NaN                       NaN\n",
       "13           14         NaN                       NaN\n",
       "14           15         NaN                       NaN\n",
       "15           16         NaN                       NaN\n",
       "16           17         NaN                       NaN\n",
       "17           18         NaN                       NaN\n",
       "18           19         NaN                       NaN\n",
       "19           20         NaN                       NaN\n",
       "20           21         NaN                       NaN\n",
       "21           22         NaN  Cash, Check, Credit Card\n",
       "22           22         NaN                       NaN"
      ]
     },
     "execution_count": 38,
     "metadata": {},
     "output_type": "execute_result"
    }
   ],
   "source": [
    "df7[['location_id', 'program_id', 'accepted_payments']]"
   ]
  },
  {
   "cell_type": "code",
   "execution_count": 41,
   "id": "75267020-103f-4b15-b73a-d5f15e739957",
   "metadata": {},
   "outputs": [
    {
     "data": {
      "text/plain": [
       "id                                                                         1\n",
       "location_id                                                                1\n",
       "program_id                                                               NaN\n",
       "accepted_payments                                                        NaN\n",
       "alternate_name                                                           NaN\n",
       "application_process                               Walk in or apply by phone.\n",
       "audience                   Older adults age 55 or over, ethnic minorities...\n",
       "description                A walk-in center for older adults that provide...\n",
       "eligibility                Age 55 or over for most programs, age 60 or ov...\n",
       "email                                                                    NaN\n",
       "fees                       $2.50 suggested donation for lunch for age 60 ...\n",
       "funding_sources                   City, County, Donations, Fees, Fundraising\n",
       "interpretation_services                                                  NaN\n",
       "keywords                   ADULT PROTECTION AND CARE SERVICES, Meal Sites...\n",
       "languages                                                                NaN\n",
       "name                                         Fair Oaks Adult Activity Center\n",
       "required_documents                                                       NaN\n",
       "service_areas                                                          Colma\n",
       "status                                                                active\n",
       "wait_time                                                           No wait.\n",
       "website                                                                  NaN\n",
       "taxonomy_ids                                                             NaN\n",
       "Name: 0, dtype: object"
      ]
     },
     "execution_count": 41,
     "metadata": {},
     "output_type": "execute_result"
    }
   ],
   "source": [
    "df7.loc[0]"
   ]
  },
  {
   "cell_type": "code",
   "execution_count": 43,
   "id": "a31e51e1-b671-4674-af35-118598ae6b90",
   "metadata": {},
   "outputs": [
    {
     "data": {
      "text/html": [
       "<div>\n",
       "<style scoped>\n",
       "    .dataframe tbody tr th:only-of-type {\n",
       "        vertical-align: middle;\n",
       "    }\n",
       "\n",
       "    .dataframe tbody tr th {\n",
       "        vertical-align: top;\n",
       "    }\n",
       "\n",
       "    .dataframe thead th {\n",
       "        text-align: right;\n",
       "    }\n",
       "</style>\n",
       "<table border=\"1\" class=\"dataframe\">\n",
       "  <thead>\n",
       "    <tr style=\"text-align: right;\">\n",
       "      <th></th>\n",
       "      <th>id</th>\n",
       "      <th>location_id</th>\n",
       "      <th>program_id</th>\n",
       "      <th>accepted_payments</th>\n",
       "      <th>alternate_name</th>\n",
       "      <th>application_process</th>\n",
       "      <th>audience</th>\n",
       "      <th>description</th>\n",
       "      <th>eligibility</th>\n",
       "      <th>email</th>\n",
       "      <th>...</th>\n",
       "      <th>interpretation_services</th>\n",
       "      <th>keywords</th>\n",
       "      <th>languages</th>\n",
       "      <th>name</th>\n",
       "      <th>required_documents</th>\n",
       "      <th>service_areas</th>\n",
       "      <th>status</th>\n",
       "      <th>wait_time</th>\n",
       "      <th>website</th>\n",
       "      <th>taxonomy_ids</th>\n",
       "    </tr>\n",
       "  </thead>\n",
       "  <tbody>\n",
       "    <tr>\n",
       "      <th>0</th>\n",
       "      <td>1</td>\n",
       "      <td>1</td>\n",
       "      <td>NaN</td>\n",
       "      <td>NaN</td>\n",
       "      <td>NaN</td>\n",
       "      <td>Walk in or apply by phone.</td>\n",
       "      <td>Older adults age 55 or over, ethnic minorities...</td>\n",
       "      <td>A walk-in center for older adults that provide...</td>\n",
       "      <td>Age 55 or over for most programs, age 60 or ov...</td>\n",
       "      <td>NaN</td>\n",
       "      <td>...</td>\n",
       "      <td>NaN</td>\n",
       "      <td>ADULT PROTECTION AND CARE SERVICES, Meal Sites...</td>\n",
       "      <td>NaN</td>\n",
       "      <td>Fair Oaks Adult Activity Center</td>\n",
       "      <td>NaN</td>\n",
       "      <td>Colma</td>\n",
       "      <td>active</td>\n",
       "      <td>No wait.</td>\n",
       "      <td>NaN</td>\n",
       "      <td>NaN</td>\n",
       "    </tr>\n",
       "    <tr>\n",
       "      <th>1</th>\n",
       "      <td>2</td>\n",
       "      <td>2</td>\n",
       "      <td>NaN</td>\n",
       "      <td>NaN</td>\n",
       "      <td>NaN</td>\n",
       "      <td>Apply by phone for an appointment.</td>\n",
       "      <td>Residents of San Mateo County age 55 or over</td>\n",
       "      <td>Provides training and job placement to eligibl...</td>\n",
       "      <td>Age 55 or over, county resident and willing an...</td>\n",
       "      <td>NaN</td>\n",
       "      <td>...</td>\n",
       "      <td>NaN</td>\n",
       "      <td>EMPLOYMENT/TRAINING SERVICES, Job Development,...</td>\n",
       "      <td>NaN</td>\n",
       "      <td>Second Career Employment Program</td>\n",
       "      <td>NaN</td>\n",
       "      <td>San Mateo County</td>\n",
       "      <td>active</td>\n",
       "      <td>Varies.</td>\n",
       "      <td>NaN</td>\n",
       "      <td>NaN</td>\n",
       "    </tr>\n",
       "  </tbody>\n",
       "</table>\n",
       "<p>2 rows × 22 columns</p>\n",
       "</div>"
      ],
      "text/plain": [
       "   id  location_id  program_id accepted_payments alternate_name  \\\n",
       "0   1            1         NaN               NaN            NaN   \n",
       "1   2            2         NaN               NaN            NaN   \n",
       "\n",
       "                  application_process  \\\n",
       "0          Walk in or apply by phone.   \n",
       "1  Apply by phone for an appointment.   \n",
       "\n",
       "                                            audience  \\\n",
       "0  Older adults age 55 or over, ethnic minorities...   \n",
       "1       Residents of San Mateo County age 55 or over   \n",
       "\n",
       "                                         description  \\\n",
       "0  A walk-in center for older adults that provide...   \n",
       "1  Provides training and job placement to eligibl...   \n",
       "\n",
       "                                         eligibility email  ...  \\\n",
       "0  Age 55 or over for most programs, age 60 or ov...   NaN  ...   \n",
       "1  Age 55 or over, county resident and willing an...   NaN  ...   \n",
       "\n",
       "  interpretation_services                                           keywords  \\\n",
       "0                     NaN  ADULT PROTECTION AND CARE SERVICES, Meal Sites...   \n",
       "1                     NaN  EMPLOYMENT/TRAINING SERVICES, Job Development,...   \n",
       "\n",
       "  languages                              name required_documents  \\\n",
       "0       NaN   Fair Oaks Adult Activity Center                NaN   \n",
       "1       NaN  Second Career Employment Program                NaN   \n",
       "\n",
       "      service_areas  status wait_time website taxonomy_ids  \n",
       "0             Colma  active  No wait.     NaN          NaN  \n",
       "1  San Mateo County  active   Varies.     NaN          NaN  \n",
       "\n",
       "[2 rows x 22 columns]"
      ]
     },
     "execution_count": 43,
     "metadata": {},
     "output_type": "execute_result"
    }
   ],
   "source": [
    "df7.loc[[0,1]]"
   ]
  },
  {
   "cell_type": "code",
   "execution_count": 44,
   "id": "41a85153-6cbb-4e73-b76d-750612a87b13",
   "metadata": {},
   "outputs": [
    {
     "name": "stdout",
     "output_type": "stream",
     "text": [
      "<class 'pandas.core.frame.DataFrame'>\n",
      "RangeIndex: 23 entries, 0 to 22\n",
      "Data columns (total 22 columns):\n",
      " #   Column                   Non-Null Count  Dtype  \n",
      "---  ------                   --------------  -----  \n",
      " 0   id                       23 non-null     int64  \n",
      " 1   location_id              23 non-null     int64  \n",
      " 2   program_id               0 non-null      float64\n",
      " 3   accepted_payments        1 non-null      object \n",
      " 4   alternate_name           1 non-null      object \n",
      " 5   application_process      23 non-null     object \n",
      " 6   audience                 14 non-null     object \n",
      " 7   description              23 non-null     object \n",
      " 8   eligibility              21 non-null     object \n",
      " 9   email                    1 non-null      object \n",
      " 10  fees                     21 non-null     object \n",
      " 11  funding_sources          21 non-null     object \n",
      " 12  interpretation_services  1 non-null      object \n",
      " 13  keywords                 21 non-null     object \n",
      " 14  languages                1 non-null      object \n",
      " 15  name                     23 non-null     object \n",
      " 16  required_documents       1 non-null      object \n",
      " 17  service_areas            21 non-null     object \n",
      " 18  status                   23 non-null     object \n",
      " 19  wait_time                19 non-null     object \n",
      " 20  website                  2 non-null      object \n",
      " 21  taxonomy_ids             1 non-null      object \n",
      "dtypes: float64(1), int64(2), object(19)\n",
      "memory usage: 4.1+ KB\n"
     ]
    }
   ],
   "source": [
    "df7.info()"
   ]
  },
  {
   "cell_type": "markdown",
   "id": "6e69b510-1925-4c3e-9595-980f011d14b1",
   "metadata": {},
   "source": [
    "# Q6. Which of the following is mutable in nature Series, DataFrame, Panel?"
   ]
  },
  {
   "cell_type": "markdown",
   "id": "33c3a93b-24dc-4726-a6f2-4dc156970762",
   "metadata": {},
   "source": [
    "Pandas in Python deals with three data structures namely\n",
    "\n",
    "Series\n",
    "DataFrame\n",
    "Panel\n",
    " \n",
    "\n",
    "Dimensions and Descriptions of Pandas Datastructure:\n",
    "Series – 1D labeled homogeneous array, size immutable\n",
    "Data Frames – 2D labeled, size-mutable tabular structure with heterogenic columns\n",
    "Panel – 3D labeled size mutable array.\n",
    "\n",
    "Series in Pandas:\n",
    "Series is a one-dimensional array with homogeneous data.  All the elements of series should be of same data type\n",
    "Key Features of a Series:\n",
    "Homogeneous data\n",
    "Size Immutable –size cannot be changed\n",
    "Values of Data Mutable\n",
    "\n",
    "DataFrame in pandas:\n",
    "DataFrame is a two-dimensional array with heterogeneous data, usually represented in the tabular format. The data is represented in rows and columns. Each column represents an attribute and each row represents a person.\n",
    "Key Features of a DataFrame:\n",
    "Heterogeneous data\n",
    "Size Mutable\n",
    "Data Mutable\n",
    " \n",
    "\n",
    "Panel in pandas:\n",
    "Panel is a three-dimensional data structure with heterogeneous data.\n",
    "\n",
    "Key Features of a Panel:\n",
    "Heterogeneous data\n",
    "Size Mutable\n",
    "Data Mutable"
   ]
  },
  {
   "cell_type": "markdown",
   "id": "d0486fd3-bbd4-42d1-9d54-58105e3bf07d",
   "metadata": {},
   "source": [
    "# Q7. Create a DataFrame using multiple Series. Explain with an example."
   ]
  },
  {
   "cell_type": "markdown",
   "id": "2f170c65-26d8-4b89-8dc2-17b76aa19a8c",
   "metadata": {},
   "source": [
    "In pandas, Series is a one-dimensional labeled array capable of holding any data type(integers, strings, floating-point numbers, Python objects, etc.).\n",
    "Series stores data in sequential order. It is one-column information similar to a columns in an excel sheet/SQL table.\n",
    "\n",
    "When you combine multiple pandas Series into a DataFrame, it creates a DataFrame with the number of columns equivalent to number of series you are merging.\n",
    "You can create a DataFrame from multiple Series objects by adding each series as a columns.\n",
    "By using concat() method you can merge multiple series together into DataFrame. This takes several params, for our scenario we use list that takes series to combine and axis=1 to specify merge series as columns instead of rows. Note that using axis=0 appends series to rows instead of columns.\n"
   ]
  },
  {
   "cell_type": "code",
   "execution_count": 58,
   "id": "680ea6bc-aba0-4234-b05f-10c80b195d63",
   "metadata": {},
   "outputs": [
    {
     "data": {
      "text/plain": [
       "0     4\n",
       "1     8\n",
       "2    15\n",
       "3    16\n",
       "4    23\n",
       "5    42\n",
       "dtype: int64"
      ]
     },
     "execution_count": 58,
     "metadata": {},
     "output_type": "execute_result"
    }
   ],
   "source": [
    "df\n"
   ]
  },
  {
   "cell_type": "code",
   "execution_count": 59,
   "id": "5a7e7c49-f83e-4c8d-9cd0-cc8576efd047",
   "metadata": {},
   "outputs": [
    {
     "data": {
      "text/plain": [
       "0     4\n",
       "1     8\n",
       "2    15\n",
       "3    16\n",
       "4    23\n",
       "5    42\n",
       "dtype: int64"
      ]
     },
     "execution_count": 59,
     "metadata": {},
     "output_type": "execute_result"
    }
   ],
   "source": [
    "df2"
   ]
  },
  {
   "cell_type": "code",
   "execution_count": 61,
   "id": "ce5368da-2cec-47f9-9d64-bf9d0cb5779e",
   "metadata": {},
   "outputs": [],
   "source": [
    "df8=pd.concat([df,df2],axis=1)"
   ]
  },
  {
   "cell_type": "code",
   "execution_count": 62,
   "id": "3f731fb5-b593-469a-885c-ea3248c3848d",
   "metadata": {},
   "outputs": [
    {
     "data": {
      "text/html": [
       "<div>\n",
       "<style scoped>\n",
       "    .dataframe tbody tr th:only-of-type {\n",
       "        vertical-align: middle;\n",
       "    }\n",
       "\n",
       "    .dataframe tbody tr th {\n",
       "        vertical-align: top;\n",
       "    }\n",
       "\n",
       "    .dataframe thead th {\n",
       "        text-align: right;\n",
       "    }\n",
       "</style>\n",
       "<table border=\"1\" class=\"dataframe\">\n",
       "  <thead>\n",
       "    <tr style=\"text-align: right;\">\n",
       "      <th></th>\n",
       "      <th>0</th>\n",
       "      <th>1</th>\n",
       "    </tr>\n",
       "  </thead>\n",
       "  <tbody>\n",
       "    <tr>\n",
       "      <th>0</th>\n",
       "      <td>4</td>\n",
       "      <td>4</td>\n",
       "    </tr>\n",
       "    <tr>\n",
       "      <th>1</th>\n",
       "      <td>8</td>\n",
       "      <td>8</td>\n",
       "    </tr>\n",
       "    <tr>\n",
       "      <th>2</th>\n",
       "      <td>15</td>\n",
       "      <td>15</td>\n",
       "    </tr>\n",
       "    <tr>\n",
       "      <th>3</th>\n",
       "      <td>16</td>\n",
       "      <td>16</td>\n",
       "    </tr>\n",
       "    <tr>\n",
       "      <th>4</th>\n",
       "      <td>23</td>\n",
       "      <td>23</td>\n",
       "    </tr>\n",
       "    <tr>\n",
       "      <th>5</th>\n",
       "      <td>42</td>\n",
       "      <td>42</td>\n",
       "    </tr>\n",
       "  </tbody>\n",
       "</table>\n",
       "</div>"
      ],
      "text/plain": [
       "    0   1\n",
       "0   4   4\n",
       "1   8   8\n",
       "2  15  15\n",
       "3  16  16\n",
       "4  23  23\n",
       "5  42  42"
      ]
     },
     "execution_count": 62,
     "metadata": {},
     "output_type": "execute_result"
    }
   ],
   "source": [
    "df8"
   ]
  },
  {
   "cell_type": "code",
   "execution_count": 64,
   "id": "f21a097a-26c4-4508-99bb-ffccd5ba856a",
   "metadata": {},
   "outputs": [],
   "source": [
    "list3= [\"Spark\",\"PySpark\",\"Hadoop\",\"DS\",\"Java\",\"C++\"]\n"
   ]
  },
  {
   "cell_type": "code",
   "execution_count": 65,
   "id": "88c88868-b2ff-4abc-bb17-5ddcb39961b4",
   "metadata": {},
   "outputs": [],
   "source": [
    "df9=pd.Series(list3)"
   ]
  },
  {
   "cell_type": "code",
   "execution_count": 66,
   "id": "c0d318df-5713-4248-9495-330f65c6d62e",
   "metadata": {},
   "outputs": [
    {
     "data": {
      "text/plain": [
       "0      Spark\n",
       "1    PySpark\n",
       "2     Hadoop\n",
       "3         DS\n",
       "4       Java\n",
       "5        C++\n",
       "dtype: object"
      ]
     },
     "execution_count": 66,
     "metadata": {},
     "output_type": "execute_result"
    }
   ],
   "source": [
    "df9"
   ]
  },
  {
   "cell_type": "code",
   "execution_count": 67,
   "id": "c2d37c24-d02c-4606-9ed3-49a4660d9c6a",
   "metadata": {},
   "outputs": [],
   "source": [
    "df10=pd.concat([df,df2,df9],axis=1)"
   ]
  },
  {
   "cell_type": "code",
   "execution_count": 68,
   "id": "fb99fe4d-a200-486f-b592-8a72d008db0d",
   "metadata": {
    "jp-MarkdownHeadingCollapsed": true,
    "tags": []
   },
   "outputs": [
    {
     "data": {
      "text/html": [
       "<div>\n",
       "<style scoped>\n",
       "    .dataframe tbody tr th:only-of-type {\n",
       "        vertical-align: middle;\n",
       "    }\n",
       "\n",
       "    .dataframe tbody tr th {\n",
       "        vertical-align: top;\n",
       "    }\n",
       "\n",
       "    .dataframe thead th {\n",
       "        text-align: right;\n",
       "    }\n",
       "</style>\n",
       "<table border=\"1\" class=\"dataframe\">\n",
       "  <thead>\n",
       "    <tr style=\"text-align: right;\">\n",
       "      <th></th>\n",
       "      <th>0</th>\n",
       "      <th>1</th>\n",
       "      <th>2</th>\n",
       "    </tr>\n",
       "  </thead>\n",
       "  <tbody>\n",
       "    <tr>\n",
       "      <th>0</th>\n",
       "      <td>4</td>\n",
       "      <td>4</td>\n",
       "      <td>Spark</td>\n",
       "    </tr>\n",
       "    <tr>\n",
       "      <th>1</th>\n",
       "      <td>8</td>\n",
       "      <td>8</td>\n",
       "      <td>PySpark</td>\n",
       "    </tr>\n",
       "    <tr>\n",
       "      <th>2</th>\n",
       "      <td>15</td>\n",
       "      <td>15</td>\n",
       "      <td>Hadoop</td>\n",
       "    </tr>\n",
       "    <tr>\n",
       "      <th>3</th>\n",
       "      <td>16</td>\n",
       "      <td>16</td>\n",
       "      <td>DS</td>\n",
       "    </tr>\n",
       "    <tr>\n",
       "      <th>4</th>\n",
       "      <td>23</td>\n",
       "      <td>23</td>\n",
       "      <td>Java</td>\n",
       "    </tr>\n",
       "    <tr>\n",
       "      <th>5</th>\n",
       "      <td>42</td>\n",
       "      <td>42</td>\n",
       "      <td>C++</td>\n",
       "    </tr>\n",
       "  </tbody>\n",
       "</table>\n",
       "</div>"
      ],
      "text/plain": [
       "    0   1        2\n",
       "0   4   4    Spark\n",
       "1   8   8  PySpark\n",
       "2  15  15   Hadoop\n",
       "3  16  16       DS\n",
       "4  23  23     Java\n",
       "5  42  42      C++"
      ]
     },
     "execution_count": 68,
     "metadata": {},
     "output_type": "execute_result"
    }
   ],
   "source": [
    "df10"
   ]
  },
  {
   "cell_type": "code",
   "execution_count": 69,
   "id": "4aec005b-acfc-4ee2-a921-b58be5dcb71c",
   "metadata": {},
   "outputs": [
    {
     "name": "stdout",
     "output_type": "stream",
     "text": [
      "   courses   fees  discount\n",
      "0    Spark  22000      1000\n",
      "1  PySpark  25000      2300\n",
      "2   Hadoop  23000      1000\n"
     ]
    }
   ],
   "source": [
    "# Next Example\n",
    "# Create Series by assigning names\n",
    "courses = pd.Series([\"Spark\",\"PySpark\",\"Hadoop\"], name='courses')\n",
    "fees = pd.Series([22000,25000,23000], name='fees')\n",
    "discount  = pd.Series([1000,2300,1000],name='discount')\n",
    "\n",
    "df=pd.concat([courses,fees,discount],axis=1)\n",
    "print(df)\n"
   ]
  },
  {
   "cell_type": "code",
   "execution_count": 70,
   "id": "34785785-74ac-4759-8d0e-d659d46211d3",
   "metadata": {},
   "outputs": [
    {
     "name": "stdout",
     "output_type": "stream",
     "text": [
      "    Courses  Course_Fee  Course_Discount\n",
      "r1    Spark       22000             1000\n",
      "r2  PySpark       25000             2300\n",
      "r3   Hadoop       23000             1000\n"
     ]
    }
   ],
   "source": [
    "\n",
    "# Assign Index to Series\n",
    "index_labels=['r1','r2','r3']\n",
    "courses.index = index_labels\n",
    "fees.index = index_labels\n",
    "discount.index = index_labels\n",
    "\n",
    "# Concat Series by Changing Names\n",
    "df=pd.concat({'Courses': courses,\n",
    "              'Course_Fee': fees,\n",
    "              'Course_Discount': discount},axis=1)\n",
    "print(df)\n"
   ]
  },
  {
   "cell_type": "code",
   "execution_count": 71,
   "id": "87bd44f1-6452-411f-9650-7b379ae6cb6e",
   "metadata": {},
   "outputs": [
    {
     "name": "stdout",
     "output_type": "stream",
     "text": [
      "  index  Courses  Course_Fee  Course_Discount\n",
      "0    r1    Spark       22000             1000\n",
      "1    r2  PySpark       25000             2300\n",
      "2    r3   Hadoop       23000             1000\n"
     ]
    }
   ],
   "source": [
    "\n",
    "#change the index to a column & create new index\n",
    "df = df.reset_index()\n",
    "print(df)\n"
   ]
  },
  {
   "cell_type": "code",
   "execution_count": null,
   "id": "6c572b81-1be1-4691-95a2-8fea0b1c775f",
   "metadata": {},
   "outputs": [],
   "source": []
  }
 ],
 "metadata": {
  "kernelspec": {
   "display_name": "Python 3 (ipykernel)",
   "language": "python",
   "name": "python3"
  },
  "language_info": {
   "codemirror_mode": {
    "name": "ipython",
    "version": 3
   },
   "file_extension": ".py",
   "mimetype": "text/x-python",
   "name": "python",
   "nbconvert_exporter": "python",
   "pygments_lexer": "ipython3",
   "version": "3.10.8"
  }
 },
 "nbformat": 4,
 "nbformat_minor": 5
}
